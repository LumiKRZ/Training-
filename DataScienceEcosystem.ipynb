{
 "cells": [
  {
   "cell_type": "markdown",
   "id": "3e0020f1",
   "metadata": {},
   "source": [
    "Data Science Tools and Ecosystem"
   ]
  },
  {
   "cell_type": "markdown",
   "id": "6fad2950",
   "metadata": {},
   "source": [
    "In this noteboo Data SCience Tools and Ecosystem are summarized"
   ]
  },
  {
   "cell_type": "markdown",
   "id": "2b7f69b9",
   "metadata": {},
   "source": [
    "Some of the commonly used libraries used by Data Scientist include:"
   ]
  },
  {
   "cell_type": "markdown",
   "id": "2814031c",
   "metadata": {},
   "source": [
    "1. Numpy\n",
    "2. Pandas\n",
    "3. Matplotlib\n",
    "4. Scikit-learn\n",
    "5. TensorFlow"
   ]
  },
  {
   "cell_type": "markdown",
   "id": "29b93118",
   "metadata": {},
   "source": [
    "Some of the popular languages that Data Scientists use are;\n",
    "\n",
    "1. Python\n",
    "2. R\n",
    "3. Scala\n",
    "4. Julia\n"
   ]
  },
  {
   "cell_type": "markdown",
   "id": "1c145bc3",
   "metadata": {},
   "source": [
    "| Data Scientist Tools | \n",
    "| -------------| \n",
    "| | \n",
    "| | \n",
    "| | "
   ]
  },
  {
   "cell_type": "markdown",
   "id": "93092f66",
   "metadata": {},
   "source": [
    "### Below are a few examples of evaluating arithmetic expressions in Python"
   ]
  },
  {
   "cell_type": "code",
   "execution_count": 7,
   "id": "1378178a",
   "metadata": {},
   "outputs": [
    {
     "data": {
      "text/plain": [
       "17"
      ]
     },
     "execution_count": 7,
     "metadata": {},
     "output_type": "execute_result"
    }
   ],
   "source": [
    "# This is a simple arithmetic expression to multiply then add integers\n",
    "\n",
    "(3*4)+5"
   ]
  },
  {
   "cell_type": "code",
   "execution_count": 8,
   "id": "08ed0f33",
   "metadata": {},
   "outputs": [
    {
     "data": {
      "text/plain": [
       "3.3333333333333335"
      ]
     },
     "execution_count": 8,
     "metadata": {},
     "output_type": "execute_result"
    }
   ],
   "source": [
    "# This will convert 200 minutes to hours by dividing by 60\n",
    "\n",
    "200/60"
   ]
  },
  {
   "cell_type": "markdown",
   "id": "efefdbc1",
   "metadata": {},
   "source": [
    "**Objectives:**\n",
    "\n",
    "- List popular languages for Data Science  \n",
    "- Create and format markdown cells  \n",
    "- Identify commonly used libraries in data science  \n",
    "- Explain key concepts in Jupyter Notebooks  \n"
   ]
  },
  {
   "cell_type": "markdown",
   "id": "d2e31990",
   "metadata": {},
   "source": [
    "## Author\n",
    "Lumi Kryeziu\n"
   ]
  },
  {
   "cell_type": "code",
   "execution_count": null,
   "id": "a9bcd3bc",
   "metadata": {},
   "outputs": [],
   "source": []
  }
 ],
 "metadata": {
  "kernelspec": {
   "display_name": "Python 3 (ipykernel)",
   "language": "python",
   "name": "python3"
  },
  "language_info": {
   "codemirror_mode": {
    "name": "ipython",
    "version": 3
   },
   "file_extension": ".py",
   "mimetype": "text/x-python",
   "name": "python",
   "nbconvert_exporter": "python",
   "pygments_lexer": "ipython3",
   "version": "3.11.4"
  }
 },
 "nbformat": 4,
 "nbformat_minor": 5
}
